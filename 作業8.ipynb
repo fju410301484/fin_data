{
  "nbformat": 4,
  "nbformat_minor": 0,
  "metadata": {
    "colab": {
      "provenance": [],
      "authorship_tag": "ABX9TyOlpd7/pTy/lxDvpOjspVgm",
      "include_colab_link": true
    },
    "kernelspec": {
      "name": "python3",
      "display_name": "Python 3"
    },
    "language_info": {
      "name": "python"
    }
  },
  "cells": [
    {
      "cell_type": "markdown",
      "metadata": {
        "id": "view-in-github",
        "colab_type": "text"
      },
      "source": [
        "<a href=\"https://colab.research.google.com/github/fju410301484/fin_data/blob/main/%E4%BD%9C%E6%A5%AD8.ipynb\" target=\"_parent\"><img src=\"https://colab.research.google.com/assets/colab-badge.svg\" alt=\"Open In Colab\"/></a>"
      ]
    },
    {
      "cell_type": "code",
      "execution_count": null,
      "metadata": {
        "id": "PKxRTbzTrWm1"
      },
      "outputs": [],
      "source": [
        "import pandas as pd"
      ]
    },
    {
      "cell_type": "code",
      "source": [
        "url = \"https://raw.githubusercontent.com/fju410301484/fin_data/refs/heads/main/balance_sheet.csv\""
      ],
      "metadata": {
        "id": "zCOyHhS6roWD"
      },
      "execution_count": null,
      "outputs": []
    },
    {
      "cell_type": "code",
      "source": [
        "df1 = pd.read_csv(url, index_col=0, encoding='unicode_escape')"
      ],
      "metadata": {
        "id": "wZYeIJ-Br1yK"
      },
      "execution_count": null,
      "outputs": []
    },
    {
      "cell_type": "code",
      "source": [
        "df1"
      ],
      "metadata": {
        "colab": {
          "base_uri": "https://localhost:8080/",
          "height": 384
        },
        "id": "IgWOMTWWsTnp",
        "outputId": "e94507ac-df73-48ab-d3ce-970b4649aeed"
      },
      "execution_count": null,
      "outputs": [
        {
          "output_type": "execute_result",
          "data": {
            "text/plain": [
              "              YYYY/MM  Quarter consolidation  Month Currency  \\\n",
              "CO_ID                                                          \n",
              "2330 TSMC     45261.0      4.0             Y   12.0      NTD   \n",
              "2317 Hon Hai  45261.0      4.0             Y   12.0      NTD   \n",
              "\n",
              "              Total cash and cash equivalents  \\\n",
              "CO_ID                                           \n",
              "2330 TSMC                        1.465428e+09   \n",
              "2317 Hon Hai                     1.197663e+09   \n",
              "\n",
              "              Total current financial assets at fair value through profit or loss  \\\n",
              "CO_ID                                                                               \n",
              "2330 TSMC                                              924636.0                     \n",
              "2317 Hon Hai                                          6668892.0                     \n",
              "\n",
              "              Financial assets at fair value through other comprehensive income - Current  \\\n",
              "CO_ID                                                                                       \n",
              "2330 TSMC                                           154530830.0                             \n",
              "2317 Hon Hai                                                0.0                             \n",
              "\n",
              "              Financial assets measured at amortized cost - Current  \\\n",
              "CO_ID                                                                 \n",
              "2330 TSMC                                            66761221.0       \n",
              "2317 Hon Hai                                        145746084.0       \n",
              "\n",
              "              Current financial assets for hedging  ...  \\\n",
              "CO_ID                                               ...   \n",
              "2330 TSMC                                      0.0  ...   \n",
              "2317 Hon Hai                                   0.0  ...   \n",
              "\n",
              "              Other equity - unearned compensation  Other equity, others  \\\n",
              "CO_ID                                                                      \n",
              "2330 TSMC                              (293434.00)                   0.0   \n",
              "2317 Hon Hai                                 0.00                    0.0   \n",
              "\n",
              "              Total other equity interest  Treasury shares  \\\n",
              "CO_ID                                                        \n",
              "2330 TSMC                   (28314256.00)            0.00    \n",
              "2317 Hon Hai               (113221953.00)       (15194.00)   \n",
              "\n",
              "              Total equity attributable to owners of parent  \\\n",
              "CO_ID                                                         \n",
              "2330 TSMC                                      3.458914e+09   \n",
              "2317 Hon Hai                                   1.493109e+09   \n",
              "\n",
              "              Interests in the former associate or jointly controlled entity  \\\n",
              "CO_ID                                                                          \n",
              "2330 TSMC                                                   0.0                \n",
              "2317 Hon Hai                                                0.0                \n",
              "\n",
              "              Non-controlling interest in pre-acquisition share capital  \\\n",
              "CO_ID                                                                     \n",
              "2330 TSMC                                                   0.0           \n",
              "2317 Hon Hai                                                0.0           \n",
              "\n",
              "              Non-controlling interests  Total equity  \\\n",
              "CO_ID                                                   \n",
              "2330 TSMC                    24349220.0  3.483263e+09   \n",
              "2317 Hon Hai                193134544.0  1.686244e+09   \n",
              "\n",
              "              Total liabilities & equity  \n",
              "CO_ID                                     \n",
              "2330 TSMC                   5.532371e+09  \n",
              "2317 Hon Hai                3.939789e+09  \n",
              "\n",
              "[2 rows x 111 columns]"
            ],
            "text/html": [
              "\n",
              "  <div id=\"df-5357e5c0-6c00-4d79-bb16-3da27b82b73e\" class=\"colab-df-container\">\n",
              "    <div>\n",
              "<style scoped>\n",
              "    .dataframe tbody tr th:only-of-type {\n",
              "        vertical-align: middle;\n",
              "    }\n",
              "\n",
              "    .dataframe tbody tr th {\n",
              "        vertical-align: top;\n",
              "    }\n",
              "\n",
              "    .dataframe thead th {\n",
              "        text-align: right;\n",
              "    }\n",
              "</style>\n",
              "<table border=\"1\" class=\"dataframe\">\n",
              "  <thead>\n",
              "    <tr style=\"text-align: right;\">\n",
              "      <th></th>\n",
              "      <th>YYYY/MM</th>\n",
              "      <th>Quarter</th>\n",
              "      <th>consolidation</th>\n",
              "      <th>Month</th>\n",
              "      <th>Currency</th>\n",
              "      <th>Total cash and cash equivalents</th>\n",
              "      <th>Total current financial assets at fair value through profit or loss</th>\n",
              "      <th>Financial assets at fair value through other comprehensive income - Current</th>\n",
              "      <th>Financial assets measured at amortized cost - Current</th>\n",
              "      <th>Current financial assets for hedging</th>\n",
              "      <th>...</th>\n",
              "      <th>Other equity - unearned compensation</th>\n",
              "      <th>Other equity, others</th>\n",
              "      <th>Total other equity interest</th>\n",
              "      <th>Treasury shares</th>\n",
              "      <th>Total equity attributable to owners of parent</th>\n",
              "      <th>Interests in the former associate or jointly controlled entity</th>\n",
              "      <th>Non-controlling interest in pre-acquisition share capital</th>\n",
              "      <th>Non-controlling interests</th>\n",
              "      <th>Total equity</th>\n",
              "      <th>Total liabilities &amp; equity</th>\n",
              "    </tr>\n",
              "    <tr>\n",
              "      <th>CO_ID</th>\n",
              "      <th></th>\n",
              "      <th></th>\n",
              "      <th></th>\n",
              "      <th></th>\n",
              "      <th></th>\n",
              "      <th></th>\n",
              "      <th></th>\n",
              "      <th></th>\n",
              "      <th></th>\n",
              "      <th></th>\n",
              "      <th></th>\n",
              "      <th></th>\n",
              "      <th></th>\n",
              "      <th></th>\n",
              "      <th></th>\n",
              "      <th></th>\n",
              "      <th></th>\n",
              "      <th></th>\n",
              "      <th></th>\n",
              "      <th></th>\n",
              "      <th></th>\n",
              "    </tr>\n",
              "  </thead>\n",
              "  <tbody>\n",
              "    <tr>\n",
              "      <th>2330 TSMC</th>\n",
              "      <td>45261.0</td>\n",
              "      <td>4.0</td>\n",
              "      <td>Y</td>\n",
              "      <td>12.0</td>\n",
              "      <td>NTD</td>\n",
              "      <td>1.465428e+09</td>\n",
              "      <td>924636.0</td>\n",
              "      <td>154530830.0</td>\n",
              "      <td>66761221.0</td>\n",
              "      <td>0.0</td>\n",
              "      <td>...</td>\n",
              "      <td>(293434.00)</td>\n",
              "      <td>0.0</td>\n",
              "      <td>(28314256.00)</td>\n",
              "      <td>0.00</td>\n",
              "      <td>3.458914e+09</td>\n",
              "      <td>0.0</td>\n",
              "      <td>0.0</td>\n",
              "      <td>24349220.0</td>\n",
              "      <td>3.483263e+09</td>\n",
              "      <td>5.532371e+09</td>\n",
              "    </tr>\n",
              "    <tr>\n",
              "      <th>2317 Hon Hai</th>\n",
              "      <td>45261.0</td>\n",
              "      <td>4.0</td>\n",
              "      <td>Y</td>\n",
              "      <td>12.0</td>\n",
              "      <td>NTD</td>\n",
              "      <td>1.197663e+09</td>\n",
              "      <td>6668892.0</td>\n",
              "      <td>0.0</td>\n",
              "      <td>145746084.0</td>\n",
              "      <td>0.0</td>\n",
              "      <td>...</td>\n",
              "      <td>0.00</td>\n",
              "      <td>0.0</td>\n",
              "      <td>(113221953.00)</td>\n",
              "      <td>(15194.00)</td>\n",
              "      <td>1.493109e+09</td>\n",
              "      <td>0.0</td>\n",
              "      <td>0.0</td>\n",
              "      <td>193134544.0</td>\n",
              "      <td>1.686244e+09</td>\n",
              "      <td>3.939789e+09</td>\n",
              "    </tr>\n",
              "  </tbody>\n",
              "</table>\n",
              "<p>2 rows × 111 columns</p>\n",
              "</div>\n",
              "    <div class=\"colab-df-buttons\">\n",
              "\n",
              "  <div class=\"colab-df-container\">\n",
              "    <button class=\"colab-df-convert\" onclick=\"convertToInteractive('df-5357e5c0-6c00-4d79-bb16-3da27b82b73e')\"\n",
              "            title=\"Convert this dataframe to an interactive table.\"\n",
              "            style=\"display:none;\">\n",
              "\n",
              "  <svg xmlns=\"http://www.w3.org/2000/svg\" height=\"24px\" viewBox=\"0 -960 960 960\">\n",
              "    <path d=\"M120-120v-720h720v720H120Zm60-500h600v-160H180v160Zm220 220h160v-160H400v160Zm0 220h160v-160H400v160ZM180-400h160v-160H180v160Zm440 0h160v-160H620v160ZM180-180h160v-160H180v160Zm440 0h160v-160H620v160Z\"/>\n",
              "  </svg>\n",
              "    </button>\n",
              "\n",
              "  <style>\n",
              "    .colab-df-container {\n",
              "      display:flex;\n",
              "      gap: 12px;\n",
              "    }\n",
              "\n",
              "    .colab-df-convert {\n",
              "      background-color: #E8F0FE;\n",
              "      border: none;\n",
              "      border-radius: 50%;\n",
              "      cursor: pointer;\n",
              "      display: none;\n",
              "      fill: #1967D2;\n",
              "      height: 32px;\n",
              "      padding: 0 0 0 0;\n",
              "      width: 32px;\n",
              "    }\n",
              "\n",
              "    .colab-df-convert:hover {\n",
              "      background-color: #E2EBFA;\n",
              "      box-shadow: 0px 1px 2px rgba(60, 64, 67, 0.3), 0px 1px 3px 1px rgba(60, 64, 67, 0.15);\n",
              "      fill: #174EA6;\n",
              "    }\n",
              "\n",
              "    .colab-df-buttons div {\n",
              "      margin-bottom: 4px;\n",
              "    }\n",
              "\n",
              "    [theme=dark] .colab-df-convert {\n",
              "      background-color: #3B4455;\n",
              "      fill: #D2E3FC;\n",
              "    }\n",
              "\n",
              "    [theme=dark] .colab-df-convert:hover {\n",
              "      background-color: #434B5C;\n",
              "      box-shadow: 0px 1px 3px 1px rgba(0, 0, 0, 0.15);\n",
              "      filter: drop-shadow(0px 1px 2px rgba(0, 0, 0, 0.3));\n",
              "      fill: #FFFFFF;\n",
              "    }\n",
              "  </style>\n",
              "\n",
              "    <script>\n",
              "      const buttonEl =\n",
              "        document.querySelector('#df-5357e5c0-6c00-4d79-bb16-3da27b82b73e button.colab-df-convert');\n",
              "      buttonEl.style.display =\n",
              "        google.colab.kernel.accessAllowed ? 'block' : 'none';\n",
              "\n",
              "      async function convertToInteractive(key) {\n",
              "        const element = document.querySelector('#df-5357e5c0-6c00-4d79-bb16-3da27b82b73e');\n",
              "        const dataTable =\n",
              "          await google.colab.kernel.invokeFunction('convertToInteractive',\n",
              "                                                    [key], {});\n",
              "        if (!dataTable) return;\n",
              "\n",
              "        const docLinkHtml = 'Like what you see? Visit the ' +\n",
              "          '<a target=\"_blank\" href=https://colab.research.google.com/notebooks/data_table.ipynb>data table notebook</a>'\n",
              "          + ' to learn more about interactive tables.';\n",
              "        element.innerHTML = '';\n",
              "        dataTable['output_type'] = 'display_data';\n",
              "        await google.colab.output.renderOutput(dataTable, element);\n",
              "        const docLink = document.createElement('div');\n",
              "        docLink.innerHTML = docLinkHtml;\n",
              "        element.appendChild(docLink);\n",
              "      }\n",
              "    </script>\n",
              "  </div>\n",
              "\n",
              "\n",
              "<div id=\"df-62b38506-1c8f-4108-854a-7e9d87c36545\">\n",
              "  <button class=\"colab-df-quickchart\" onclick=\"quickchart('df-62b38506-1c8f-4108-854a-7e9d87c36545')\"\n",
              "            title=\"Suggest charts\"\n",
              "            style=\"display:none;\">\n",
              "\n",
              "<svg xmlns=\"http://www.w3.org/2000/svg\" height=\"24px\"viewBox=\"0 0 24 24\"\n",
              "     width=\"24px\">\n",
              "    <g>\n",
              "        <path d=\"M19 3H5c-1.1 0-2 .9-2 2v14c0 1.1.9 2 2 2h14c1.1 0 2-.9 2-2V5c0-1.1-.9-2-2-2zM9 17H7v-7h2v7zm4 0h-2V7h2v10zm4 0h-2v-4h2v4z\"/>\n",
              "    </g>\n",
              "</svg>\n",
              "  </button>\n",
              "\n",
              "<style>\n",
              "  .colab-df-quickchart {\n",
              "      --bg-color: #E8F0FE;\n",
              "      --fill-color: #1967D2;\n",
              "      --hover-bg-color: #E2EBFA;\n",
              "      --hover-fill-color: #174EA6;\n",
              "      --disabled-fill-color: #AAA;\n",
              "      --disabled-bg-color: #DDD;\n",
              "  }\n",
              "\n",
              "  [theme=dark] .colab-df-quickchart {\n",
              "      --bg-color: #3B4455;\n",
              "      --fill-color: #D2E3FC;\n",
              "      --hover-bg-color: #434B5C;\n",
              "      --hover-fill-color: #FFFFFF;\n",
              "      --disabled-bg-color: #3B4455;\n",
              "      --disabled-fill-color: #666;\n",
              "  }\n",
              "\n",
              "  .colab-df-quickchart {\n",
              "    background-color: var(--bg-color);\n",
              "    border: none;\n",
              "    border-radius: 50%;\n",
              "    cursor: pointer;\n",
              "    display: none;\n",
              "    fill: var(--fill-color);\n",
              "    height: 32px;\n",
              "    padding: 0;\n",
              "    width: 32px;\n",
              "  }\n",
              "\n",
              "  .colab-df-quickchart:hover {\n",
              "    background-color: var(--hover-bg-color);\n",
              "    box-shadow: 0 1px 2px rgba(60, 64, 67, 0.3), 0 1px 3px 1px rgba(60, 64, 67, 0.15);\n",
              "    fill: var(--button-hover-fill-color);\n",
              "  }\n",
              "\n",
              "  .colab-df-quickchart-complete:disabled,\n",
              "  .colab-df-quickchart-complete:disabled:hover {\n",
              "    background-color: var(--disabled-bg-color);\n",
              "    fill: var(--disabled-fill-color);\n",
              "    box-shadow: none;\n",
              "  }\n",
              "\n",
              "  .colab-df-spinner {\n",
              "    border: 2px solid var(--fill-color);\n",
              "    border-color: transparent;\n",
              "    border-bottom-color: var(--fill-color);\n",
              "    animation:\n",
              "      spin 1s steps(1) infinite;\n",
              "  }\n",
              "\n",
              "  @keyframes spin {\n",
              "    0% {\n",
              "      border-color: transparent;\n",
              "      border-bottom-color: var(--fill-color);\n",
              "      border-left-color: var(--fill-color);\n",
              "    }\n",
              "    20% {\n",
              "      border-color: transparent;\n",
              "      border-left-color: var(--fill-color);\n",
              "      border-top-color: var(--fill-color);\n",
              "    }\n",
              "    30% {\n",
              "      border-color: transparent;\n",
              "      border-left-color: var(--fill-color);\n",
              "      border-top-color: var(--fill-color);\n",
              "      border-right-color: var(--fill-color);\n",
              "    }\n",
              "    40% {\n",
              "      border-color: transparent;\n",
              "      border-right-color: var(--fill-color);\n",
              "      border-top-color: var(--fill-color);\n",
              "    }\n",
              "    60% {\n",
              "      border-color: transparent;\n",
              "      border-right-color: var(--fill-color);\n",
              "    }\n",
              "    80% {\n",
              "      border-color: transparent;\n",
              "      border-right-color: var(--fill-color);\n",
              "      border-bottom-color: var(--fill-color);\n",
              "    }\n",
              "    90% {\n",
              "      border-color: transparent;\n",
              "      border-bottom-color: var(--fill-color);\n",
              "    }\n",
              "  }\n",
              "</style>\n",
              "\n",
              "  <script>\n",
              "    async function quickchart(key) {\n",
              "      const quickchartButtonEl =\n",
              "        document.querySelector('#' + key + ' button');\n",
              "      quickchartButtonEl.disabled = true;  // To prevent multiple clicks.\n",
              "      quickchartButtonEl.classList.add('colab-df-spinner');\n",
              "      try {\n",
              "        const charts = await google.colab.kernel.invokeFunction(\n",
              "            'suggestCharts', [key], {});\n",
              "      } catch (error) {\n",
              "        console.error('Error during call to suggestCharts:', error);\n",
              "      }\n",
              "      quickchartButtonEl.classList.remove('colab-df-spinner');\n",
              "      quickchartButtonEl.classList.add('colab-df-quickchart-complete');\n",
              "    }\n",
              "    (() => {\n",
              "      let quickchartButtonEl =\n",
              "        document.querySelector('#df-62b38506-1c8f-4108-854a-7e9d87c36545 button');\n",
              "      quickchartButtonEl.style.display =\n",
              "        google.colab.kernel.accessAllowed ? 'block' : 'none';\n",
              "    })();\n",
              "  </script>\n",
              "</div>\n",
              "\n",
              "  <div id=\"id_d73fbf91-925d-49a1-b583-72cdfd6f201d\">\n",
              "    <style>\n",
              "      .colab-df-generate {\n",
              "        background-color: #E8F0FE;\n",
              "        border: none;\n",
              "        border-radius: 50%;\n",
              "        cursor: pointer;\n",
              "        display: none;\n",
              "        fill: #1967D2;\n",
              "        height: 32px;\n",
              "        padding: 0 0 0 0;\n",
              "        width: 32px;\n",
              "      }\n",
              "\n",
              "      .colab-df-generate:hover {\n",
              "        background-color: #E2EBFA;\n",
              "        box-shadow: 0px 1px 2px rgba(60, 64, 67, 0.3), 0px 1px 3px 1px rgba(60, 64, 67, 0.15);\n",
              "        fill: #174EA6;\n",
              "      }\n",
              "\n",
              "      [theme=dark] .colab-df-generate {\n",
              "        background-color: #3B4455;\n",
              "        fill: #D2E3FC;\n",
              "      }\n",
              "\n",
              "      [theme=dark] .colab-df-generate:hover {\n",
              "        background-color: #434B5C;\n",
              "        box-shadow: 0px 1px 3px 1px rgba(0, 0, 0, 0.15);\n",
              "        filter: drop-shadow(0px 1px 2px rgba(0, 0, 0, 0.3));\n",
              "        fill: #FFFFFF;\n",
              "      }\n",
              "    </style>\n",
              "    <button class=\"colab-df-generate\" onclick=\"generateWithVariable('df1')\"\n",
              "            title=\"Generate code using this dataframe.\"\n",
              "            style=\"display:none;\">\n",
              "\n",
              "  <svg xmlns=\"http://www.w3.org/2000/svg\" height=\"24px\"viewBox=\"0 0 24 24\"\n",
              "       width=\"24px\">\n",
              "    <path d=\"M7,19H8.4L18.45,9,17,7.55,7,17.6ZM5,21V16.75L18.45,3.32a2,2,0,0,1,2.83,0l1.4,1.43a1.91,1.91,0,0,1,.58,1.4,1.91,1.91,0,0,1-.58,1.4L9.25,21ZM18.45,9,17,7.55Zm-12,3A5.31,5.31,0,0,0,4.9,8.1,5.31,5.31,0,0,0,1,6.5,5.31,5.31,0,0,0,4.9,4.9,5.31,5.31,0,0,0,6.5,1,5.31,5.31,0,0,0,8.1,4.9,5.31,5.31,0,0,0,12,6.5,5.46,5.46,0,0,0,6.5,12Z\"/>\n",
              "  </svg>\n",
              "    </button>\n",
              "    <script>\n",
              "      (() => {\n",
              "      const buttonEl =\n",
              "        document.querySelector('#id_d73fbf91-925d-49a1-b583-72cdfd6f201d button.colab-df-generate');\n",
              "      buttonEl.style.display =\n",
              "        google.colab.kernel.accessAllowed ? 'block' : 'none';\n",
              "\n",
              "      buttonEl.onclick = () => {\n",
              "        google.colab.notebook.generateWithVariable('df1');\n",
              "      }\n",
              "      })();\n",
              "    </script>\n",
              "  </div>\n",
              "\n",
              "    </div>\n",
              "  </div>\n"
            ],
            "application/vnd.google.colaboratory.intrinsic+json": {
              "type": "dataframe",
              "variable_name": "df1"
            }
          },
          "metadata": {},
          "execution_count": 7
        }
      ]
    },
    {
      "cell_type": "code",
      "source": [
        "df1.columns"
      ],
      "metadata": {
        "colab": {
          "base_uri": "https://localhost:8080/"
        },
        "id": "O1O2aKwUxgDz",
        "outputId": "64ec686e-b38c-42ff-b309-617a677cbef3"
      },
      "execution_count": null,
      "outputs": [
        {
          "output_type": "execute_result",
          "data": {
            "text/plain": [
              "Index(['YYYY/MM', 'Quarter', 'consolidation', 'Month', 'Currency',\n",
              "       'Total cash and cash equivalents',\n",
              "       'Total current financial assets at fair value through profit or loss',\n",
              "       'Financial assets at fair value through other comprehensive income - Current',\n",
              "       'Financial assets measured at amortized cost - Current',\n",
              "       'Current financial assets for hedging',\n",
              "       ...\n",
              "       'Other equity - unearned compensation', 'Other equity, others',\n",
              "       'Total other equity interest', 'Treasury shares',\n",
              "       'Total equity attributable to owners of parent',\n",
              "       'Interests in the former associate or jointly controlled entity',\n",
              "       'Non-controlling interest in pre-acquisition share capital',\n",
              "       'Non-controlling interests', 'Total equity',\n",
              "       'Total liabilities & equity'],\n",
              "      dtype='object', length=111)"
            ]
          },
          "metadata": {},
          "execution_count": 14
        }
      ]
    },
    {
      "cell_type": "code",
      "source": [
        "df1.index"
      ],
      "metadata": {
        "colab": {
          "base_uri": "https://localhost:8080/"
        },
        "id": "k2uIRY7vxk6b",
        "outputId": "fe0d37d5-a5c6-4af0-aa49-63709d1885d2"
      },
      "execution_count": null,
      "outputs": [
        {
          "output_type": "execute_result",
          "data": {
            "text/plain": [
              "Index(['2330 TSMC', '2317 Hon Hai'], dtype='object', name='CO_ID')"
            ]
          },
          "metadata": {},
          "execution_count": 15
        }
      ]
    },
    {
      "cell_type": "code",
      "source": [
        "import pandas as pd"
      ],
      "metadata": {
        "id": "CiyABS3Z20GH"
      },
      "execution_count": null,
      "outputs": []
    },
    {
      "cell_type": "code",
      "source": [
        "url = \"https://raw.githubusercontent.com/fju410301484/fin_data/main/income_statement.csv\""
      ],
      "metadata": {
        "id": "xzxp1ZLf24Qb"
      },
      "execution_count": null,
      "outputs": []
    },
    {
      "cell_type": "code",
      "source": [
        "df2 = pd.read_csv(url, index_col=0, encoding='unicode_escape')"
      ],
      "metadata": {
        "id": "vsn35dUy3Z5K"
      },
      "execution_count": null,
      "outputs": []
    },
    {
      "cell_type": "code",
      "source": [
        "A_2330 = (df1.loc['2330 TSMC','Total current assets'] - df1.loc['2330 TSMC','Total current liabilities'])/df1.loc['2330 TSMC','Total assets']"
      ],
      "metadata": {
        "id": "lQKFeg5NvZ0y"
      },
      "execution_count": null,
      "outputs": []
    },
    {
      "cell_type": "code",
      "source": [
        "B_2330 = df1.loc['2330 TSMC','Total retained earnings']/df1.loc['2330 TSMC','Total assets']"
      ],
      "metadata": {
        "id": "qbLYnEEDzGbz"
      },
      "execution_count": null,
      "outputs": []
    },
    {
      "cell_type": "code",
      "source": [
        "C_2330 = df2.loc['2330 TSMC','Earnings before interest and tax']/df1.loc['2330 TSMC','Total assets']"
      ],
      "metadata": {
        "id": "uuKem4li0dVb"
      },
      "execution_count": null,
      "outputs": []
    },
    {
      "cell_type": "code",
      "source": [
        "D_2330 = df1.loc['2330 TSMC','Total equity']/df1.loc['2330 TSMC','Total liabilities']"
      ],
      "metadata": {
        "id": "IJBkY3sk4Ow0"
      },
      "execution_count": null,
      "outputs": []
    },
    {
      "cell_type": "code",
      "source": [
        "E_2330 = df2.loc['2330 TSMC','Total operating revenue']/df1.loc['2330 TSMC','Total assets']"
      ],
      "metadata": {
        "id": "HrDDEMtX41ZU"
      },
      "execution_count": null,
      "outputs": []
    },
    {
      "cell_type": "code",
      "source": [
        "Z_score_2330 = 1.2*A_2330 + 1.4*B_2330 + 3.3*C_2330 + 0.6*D_2330 +1.0*E_2330"
      ],
      "metadata": {
        "id": "HsTLVTXx5Uk7"
      },
      "execution_count": null,
      "outputs": []
    },
    {
      "cell_type": "code",
      "source": [
        "Z_score_2330, A_2330, B_2330, C_2330, D_2330, E_2330"
      ],
      "metadata": {
        "colab": {
          "base_uri": "https://localhost:8080/"
        },
        "id": "QNPiPeMK5szR",
        "outputId": "d65f6cd1-82e7-42f4-ce15-1bb34e5b1493"
      },
      "execution_count": null,
      "outputs": [
        {
          "output_type": "execute_result",
          "data": {
            "text/plain": [
              "(3.269951442786217,\n",
              " 0.3907430931494354,\n",
              " 0.5708277100852496,\n",
              " 0.1791583835359103,\n",
              " 1.6998919634493435,\n",
              " 0.3907430931494354)"
            ]
          },
          "metadata": {},
          "execution_count": 56
        }
      ]
    },
    {
      "cell_type": "code",
      "source": [
        "A_2317 = (df1.loc['2317 Hon Hai','Total current assets'] - df1.loc['2317 Hon Hai','Total current liabilities'])/df1.loc['2317 Hon Hai','Total assets']"
      ],
      "metadata": {
        "id": "hfY0Qzqm6GCl"
      },
      "execution_count": null,
      "outputs": []
    },
    {
      "cell_type": "code",
      "source": [
        "B_2317 = df1.loc['2317 Hon Hai','Total retained earnings']/df1.loc['2317 Hon Hai','Total assets']"
      ],
      "metadata": {
        "id": "iOmUDQh86e19"
      },
      "execution_count": null,
      "outputs": []
    },
    {
      "cell_type": "code",
      "source": [
        "C_2317 = df2.loc['2317 Hon Hai','Earnings before interest and tax']/df1.loc['2317 Hon Hai','Total assets']"
      ],
      "metadata": {
        "id": "TSjqBRM96jbd"
      },
      "execution_count": null,
      "outputs": []
    },
    {
      "cell_type": "code",
      "source": [
        "D_2317 = df1.loc['2317 Hon Hai','Total equity']/df1.loc['2317 Hon Hai','Total liabilities']"
      ],
      "metadata": {
        "id": "uIbuXUIN6pGU"
      },
      "execution_count": null,
      "outputs": []
    },
    {
      "cell_type": "code",
      "source": [
        "E_2317 = df2.loc['2317 Hon Hai','Total operating revenue']/df1.loc['2317 Hon Hai','Total assets']"
      ],
      "metadata": {
        "id": "m8vhodbE6t6V"
      },
      "execution_count": null,
      "outputs": []
    },
    {
      "cell_type": "code",
      "source": [
        "Z_score_2317 = 1.2*A_2317 + 1.4*B_2317 + 3.3*C_2317 + 0.6*D_2317 +1.0*E_2317"
      ],
      "metadata": {
        "id": "WsvR2X246yzl"
      },
      "execution_count": null,
      "outputs": []
    },
    {
      "cell_type": "code",
      "source": [
        "Z_score_2317, A_2317, B_2317, C_2317, D_2317, E_2317"
      ],
      "metadata": {
        "colab": {
          "base_uri": "https://localhost:8080/"
        },
        "id": "MuhyT5bb68G1",
        "outputId": "d7ffb99b-bafc-4df5-8fc1-468e763beacd"
      },
      "execution_count": null,
      "outputs": [
        {
          "output_type": "execute_result",
          "data": {
            "text/plain": [
              "(3.0230802780256876,\n",
              " 0.2859623354390638,\n",
              " 0.32211457324456594,\n",
              " 0.06542672094998352,\n",
              " 0.7482625811000382,\n",
              " 1.5640993451614502)"
            ]
          },
          "metadata": {},
          "execution_count": 64
        }
      ]
    }
  ]
}